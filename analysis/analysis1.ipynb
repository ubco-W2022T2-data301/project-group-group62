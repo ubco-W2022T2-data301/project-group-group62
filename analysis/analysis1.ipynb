{
 "cells": [
  {
   "cell_type": "markdown",
   "metadata": {},
   "source": [
    "# Wing Fan"
   ]
  },
  {
   "cell_type": "markdown",
   "metadata": {},
   "source": [
    "## Research question/interests\n",
    "\n",
    "From this Airbnb listing dataset.**I want to discover the correlation among the time duration of the guests' stay, amenities provided in each suite, and how pricing different for each listing.**\n",
    "We can learn the demand for the length of stay and price differ for each listing in HongKong, therefore, potential landlords who wish to invest in HongKong renting could fulfill the demands of the renters and maximize the renting occupancy."
   ]
  },
  {
   "cell_type": "code",
   "execution_count": null,
   "metadata": {},
   "outputs": [],
   "source": [
    "import pandas as pd\n",
    "dataset=pd.read_csv('../data/raw/listings.csv')\n",
    "fixed=df[[\"amenities\", \"price\", \"minimum_nights\"]]"
   ]
  }
 ],
 "metadata": {
  "kernelspec": {
   "display_name": "Python 3 (ipykernel)",
   "language": "python",
   "name": "python3"
  }
 },
 "nbformat": 4,
 "nbformat_minor": 4
}
