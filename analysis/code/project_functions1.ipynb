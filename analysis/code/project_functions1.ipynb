{
 "cells": [
  {
   "cell_type": "code",
   "execution_count": 1,
   "id": "91dab478-e36c-45df-8dd2-f6116c868bde",
   "metadata": {},
   "outputs": [],
   "source": [
    "import pandas as pd\n",
    "import numpy as np "
   ]
  },
  {
   "cell_type": "code",
   "execution_count": 2,
   "id": "1f6bc890-71d4-4e14-ac8f-614f758403a9",
   "metadata": {},
   "outputs": [],
   "source": [
    "def load_and_process(url_or_path_to_csv_file):\n",
    "    dfx = (\n",
    "        pd.read_csv('../data/raw/listings.csv')\n",
    "        .sort_values(\"minimum_nights\", ascending=False)\n",
    "        .rename(columns={\"minimum_nights\": \"minnights\"})\n",
    "        .query(\"minnights > 1\")\n",
    "        .reset_index(drop=True))\n",
    "\n",
    "    dfy = (dfx)\n",
    "    \n",
    "    return dfy"
   ]
  },
  {
   "cell_type": "code",
   "execution_count": null,
   "id": "88ce953e-6fed-410d-bae7-eba0fd88ff18",
   "metadata": {},
   "outputs": [],
   "source": []
  }
 ],
 "metadata": {
  "kernelspec": {
   "display_name": "Python 3 (ipykernel)",
   "language": "python",
   "name": "python3"
  },
  "language_info": {
   "codemirror_mode": {
    "name": "ipython",
    "version": 3
   },
   "file_extension": ".py",
   "mimetype": "text/x-python",
   "name": "python",
   "nbconvert_exporter": "python",
   "pygments_lexer": "ipython3",
   "version": "3.10.9"
  }
 },
 "nbformat": 4,
 "nbformat_minor": 5
}
